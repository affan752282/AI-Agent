{
  "nbformat": 4,
  "nbformat_minor": 0,
  "metadata": {
    "colab": {
      "provenance": [],
      "gpuType": "T4"
    },
    "kernelspec": {
      "name": "python3",
      "display_name": "Python 3"
    },
    "language_info": {
      "name": "python"
    },
    "accelerator": "GPU"
  },
  "cells": [
    {
      "cell_type": "code",
      "source": [
        "!pip install bs4 requests"
      ],
      "metadata": {
        "colab": {
          "base_uri": "https://localhost:8080/"
        },
        "id": "DraAQ89EWePp",
        "outputId": "3ccec777-50e1-494a-a58f-9403e1ca1220"
      },
      "execution_count": 2,
      "outputs": [
        {
          "output_type": "stream",
          "name": "stdout",
          "text": [
            "Collecting bs4\n",
            "  Downloading bs4-0.0.2-py2.py3-none-any.whl.metadata (411 bytes)\n",
            "Requirement already satisfied: requests in /usr/local/lib/python3.11/dist-packages (2.32.3)\n",
            "Requirement already satisfied: beautifulsoup4 in /usr/local/lib/python3.11/dist-packages (from bs4) (4.13.3)\n",
            "Requirement already satisfied: charset-normalizer<4,>=2 in /usr/local/lib/python3.11/dist-packages (from requests) (3.4.1)\n",
            "Requirement already satisfied: idna<4,>=2.5 in /usr/local/lib/python3.11/dist-packages (from requests) (3.10)\n",
            "Requirement already satisfied: urllib3<3,>=1.21.1 in /usr/local/lib/python3.11/dist-packages (from requests) (2.3.0)\n",
            "Requirement already satisfied: certifi>=2017.4.17 in /usr/local/lib/python3.11/dist-packages (from requests) (2025.1.31)\n",
            "Requirement already satisfied: soupsieve>1.2 in /usr/local/lib/python3.11/dist-packages (from beautifulsoup4->bs4) (2.6)\n",
            "Requirement already satisfied: typing-extensions>=4.0.0 in /usr/local/lib/python3.11/dist-packages (from beautifulsoup4->bs4) (4.12.2)\n",
            "Downloading bs4-0.0.2-py2.py3-none-any.whl (1.2 kB)\n",
            "Installing collected packages: bs4\n",
            "Successfully installed bs4-0.0.2\n"
          ]
        }
      ]
    },
    {
      "cell_type": "code",
      "source": [
        "!pip install html5lib"
      ],
      "metadata": {
        "colab": {
          "base_uri": "https://localhost:8080/"
        },
        "id": "1jQ5v2N7fqeY",
        "outputId": "77624fab-313f-4647-99e3-29976221d3f6"
      },
      "execution_count": 3,
      "outputs": [
        {
          "output_type": "stream",
          "name": "stdout",
          "text": [
            "Requirement already satisfied: html5lib in /usr/local/lib/python3.11/dist-packages (1.1)\n",
            "Requirement already satisfied: six>=1.9 in /usr/local/lib/python3.11/dist-packages (from html5lib) (1.17.0)\n",
            "Requirement already satisfied: webencodings in /usr/local/lib/python3.11/dist-packages (from html5lib) (0.5.1)\n"
          ]
        }
      ]
    },
    {
      "cell_type": "code",
      "source": [
        "!pip install pandas"
      ],
      "metadata": {
        "colab": {
          "base_uri": "https://localhost:8080/"
        },
        "id": "7z-DJBDUiBQo",
        "outputId": "28f8759e-2297-4f50-fef6-4404a1417378"
      },
      "execution_count": 4,
      "outputs": [
        {
          "output_type": "stream",
          "name": "stdout",
          "text": [
            "Requirement already satisfied: pandas in /usr/local/lib/python3.11/dist-packages (2.2.2)\n",
            "Requirement already satisfied: numpy>=1.23.2 in /usr/local/lib/python3.11/dist-packages (from pandas) (1.26.4)\n",
            "Requirement already satisfied: python-dateutil>=2.8.2 in /usr/local/lib/python3.11/dist-packages (from pandas) (2.8.2)\n",
            "Requirement already satisfied: pytz>=2020.1 in /usr/local/lib/python3.11/dist-packages (from pandas) (2025.1)\n",
            "Requirement already satisfied: tzdata>=2022.7 in /usr/local/lib/python3.11/dist-packages (from pandas) (2025.1)\n",
            "Requirement already satisfied: six>=1.5 in /usr/local/lib/python3.11/dist-packages (from python-dateutil>=2.8.2->pandas) (1.17.0)\n"
          ]
        }
      ]
    },
    {
      "cell_type": "code",
      "source": [
        "import requests\n"
      ],
      "metadata": {
        "id": "3Ps09SGPUd83"
      },
      "execution_count": 5,
      "outputs": []
    },
    {
      "cell_type": "code",
      "source": [
        "import pandas as pd"
      ],
      "metadata": {
        "id": "xfJiyoCNiH0R"
      },
      "execution_count": 6,
      "outputs": []
    },
    {
      "cell_type": "code",
      "source": [
        "from bs4 import BeautifulSoup"
      ],
      "metadata": {
        "id": "fNzwLRRbVR_h"
      },
      "execution_count": 7,
      "outputs": []
    },
    {
      "cell_type": "code",
      "source": [
        "urls = [\"https://www.bbc.com/news/world/asia/india\", \"https://www.bbc.com/sport\" , \"https://www.bbc.com/business\",\"https://www.bbc.com/innovation\", \"https://www.bbc.com/culture\",\n",
        "          \"https://www.bbc.com/travel\", \"https://www.bbc.com/future-planet\",\"https://www.bbc.com/weather\"\n",
        "      ]"
      ],
      "metadata": {
        "id": "ROufzGI0uEJq"
      },
      "execution_count": 8,
      "outputs": []
    },
    {
      "cell_type": "code",
      "source": [
        "paragraph_texts=[ ]\n",
        "for url in urls:\n",
        "    responses = requests.get(url)\n",
        "    soup = BeautifulSoup(responses.content, 'html.parser')\n",
        "    links = soup.find_all(\"p\")\n",
        "    paragraph_texts.extend([link.get_text() for link in links])"
      ],
      "metadata": {
        "id": "s2Vnx1oEwAQA"
      },
      "execution_count": 9,
      "outputs": []
    },
    {
      "cell_type": "code",
      "source": [
        "print(paragraph_texts)"
      ],
      "metadata": {
        "colab": {
          "base_uri": "https://localhost:8080/"
        },
        "id": "a4OwNjtow30n",
        "outputId": "a958b6fb-807a-464e-a5e9-24f884eccc5d"
      },
      "execution_count": 10,
      "outputs": [
        {
          "output_type": "stream",
          "name": "stdout",
          "text": [
            "['Reaction and the best clips as India seal victory over hosts Pakistan in the Champions Trophy.', 'The moves come after a BBC investigation found a firm had been illegally exporting the drugs.', 'The governing BJP has accused the opposition Congress of seeking \"external interference\" in elections.', 'Patel, the son of Indian immigrants, is a former defence lawyer and federal prosecutor.', 'Remarks made by popular YouTuber Ranveer Allahbadia on a talent show have led to a huge controversy.', 'The moves come after a BBC investigation found a firm had been illegally exporting the drugs.', 'Hadi Matar stabbed the renowned British-Indian author multiple times on stage at a New York lecture.', 'An Indian drug maker tells a BBC undercover team its addictive cocktail drug is “very harmful” but “this is business”.', 'The governing BJP has accused the opposition Congress of seeking \"external interference\" in elections.', \"Two years after ChatGPT, China launched DeepSeek, but India doesn't have its own foundational model yet.\", 'Indians make up only a small share of the overall unauthorised migrant population in the US.', 'Social media has sparked an economic and social revolution in Tulsi, a village in central India.', \"India is the world's biggest exporter of human hair but it wants more of the lucrative wig market.\", 'The controversial ruling once again shines a spotlight on the issue of marital rape in India, which refuses to criminalise it.', \"Does the world's largest religious gathering ever go to sleep? The BBC filmed through the night to find out.\", 'The star was stopped from busking ahead of his concert in the southern Indian city of Bengaluru.', 'Officials say the unlikely pair fell into the water when the tiger was chasing the boar.', \"Several people are feared killed in the crush at the Kumbh Mela, the world's largest religious gathering.\", 'The surge happened when people who were sleeping on the riverbank were trampled by other pilgrims.', 'Virat Kohli hits a composed unbeaten century as India beat Pakistan by six wickets to put them on the cusp of reaching the Champions Trophy semi-finals and leave their opponents on the brink of elimination.', 'Watch the best shots as India\\'s Virat Kohli puts on a \"vintage\" performance against against Pakistan to reach his century in their ICC Champions Trophy match in Dubai.', 'Virat Kohli \"hammers\"  a four to reach a century and secure India\\'s win against Pakistan in their ICC Champions Trophy match in Dubai.', 'Which sides are on course to make the Champions Trophy semi-finals? Who are the leading run-scorers? And who has taken the most wickets?', 'WWatch the best shots as India\\'s Virat Kohli puts on a \"vintage\" performance against against Pakistan to reach his century in their ICC Champions Trophy match in Dubai.', 'Virat Kohli hits an unbeaten century as India beat Pakistan by five wickets in the Champions Trophy.', \"The men's Champions Trophy returns in 2025 after a eight-year hiatus - here's the full schedule for the eight-team tournament. \", 'Virat Kohli \"hammers\" in a four to reach a century and secure India\\'s win against Pakistan in their ICC Champions Trophy match in Dubai.', 'Pakistan spinner Abrar Ahmed dismisses Shubman Gill with a \"fabulous piece of bowling\" during their match against India at the ICC Champions Trophy in Dubai. ', 'Copyright 2025 BBC. All rights reserved.\\xa0\\xa0The BBC is not responsible for the content of external sites.\\xa0Read about our approach to external linking.', '\\xa0', 'Premier League: Liverpool 2-0 up at Man City & heading 11 points clear at top as it stands', 'Follow live as Manchester City host Liverpool in a big game at the top of the Premier League.', 'Kohli guides India to comfortable win over Pakistan', 'France hammer Italy to keep Six Nations title hopes alive', 'Newcastle go fifth after holding on to beat Nottm Forest in thriller', \"Inside the doping deal for tennis' world number one\", \"'England have found an edge to bounce back'\", 'Bivol dethrones Beterbiev in thrilling revenge win', \"Aston Martin 'in a much better place' - Alonso\", 'Shiffrin claims historic 100th World Cup win', 'Andreeva becomes youngest WTA 1000 winner in Dubai', 'Stunning Modric strike helps send Real Madrid second', \"Draper withdraws from Dubai to 'manage body'\", 'Have Man Utd gone backwards under Amorim? Video, 00:03:02Have Man Utd gone backwards under Amorim?', 'A day in the life of England keeper Earps at PSG. Video, 00:05:06A day in the life of England keeper Earps at PSG', 'Champions Trophy is a cut-throat tournament - Buttler. Video, 00:00:54Champions Trophy is a cut-throat tournament - Buttler', 'Bronze on dealing with unsavoury fan behaviour. Video, 00:01:53Bronze on dealing with unsavoury fan behaviour', \"Pujols, the Stanley Cup and huskies - Zak Brown's ultimate team. Video, 00:03:20Pujols, the Stanley Cup and huskies - Zak Brown's ultimate team\", 'Everybody wants Usyk - what next for the heavyweights?', 'BBC Sport takes a look at what could happen next in the heavyweight boxing scene as Anthony Joshua, Daniel Dubois, Oleksandr Usyk and Joseph Parker chase new opponents. ', \"Sainz becomes director of F1 drivers' body\", \"Why Guardiola's tactics stopped working amid rise of rapid football\", 'Late tries help Leigh see off Huddersfield', \"Selt given suspended ban for 'rude and aggressive' behaviour\", 'Watford ease to win over relegation-threatened Luton', 'Zimbabwe defeat Ireland to take T20 series lead', \"Why Ireland are 'overwhelming' Six Nations title favourites. Video, 00:01:13Why Ireland are 'overwhelming' Six Nations title favourites\", \"'There are no quick fixes' - how can Man City recover from slump? Video, 00:01:49'There are no quick fixes' - how can Man City recover from slump?\", \"Gasperini penalty comments about Lookman 'bizarre' Video, 00:01:58Gasperini penalty comments about Lookman 'bizarre'\", \"I've found the love for football again - Toone. Video, 00:03:10I've found the love for football again - Toone\", 'Driving the new Ferrari was epic - Hamilton. VideoDriving the new Ferrari was epic - Hamilton', \"'Missed opportunities haunt Scotland on rough day'\", \"BBC Scotland's chief sports writer Tom English assesses how Scotland's 'inability to be completely ruthless' cost them at Twickenham.\", 'Wrexham close on promotion spots with Mansfield win', 'Kabangu seals victory for Hearts at St Johnstone', \"Doncic stars as Lakers end Nuggets' winning run\", 'Leeds-born Coventry fan Inglis gives England blues with riotous knock', \"Aki leads the way as Ireland's bench turns tide again\", 'Van Persie appointed head coach of Feyenoord ', \"'Holte End have a new hero' - Rashford shines in Aston Villa win\", \"Marcus Rashford inspires Aston Villa to a comeback victory over Chelsea, providing assists for both of Marco Asensio's goals.\", \"Man Utd target Spurs forward Son - Sunday's gossip\", 'Hermoso wants Rubiales conviction to set precedent', \"Briton Sheeraz's bid for world title ends in controversial draw\", 'England find a way to win to stay in title mix', \"'I'm very, very angry' - Arteta after Arsenal hopes suffer 'big blow'\", \"Has Postecoglou turned corner with 're-energised' Spurs?\", 'How does Daniel Levy run Tottenham - and would he ever leave?', 'With Tottenham struggling on the pitch and chairman Daniel Levy facing criticism from fans, BBC Sport looks at how the club is run and what the future might hold.', \"'Like a Jason Bourne movie' - how Afghan women's team fled Taliban\", \"The Treble to the periphery - what's going on with Grealish?\", 'The painful divorce of Marcus Rashford and Manchester United', 'Cole Palmer - made in the Caribbean', 'How to become a football agent', 'When River Plate icon Diaz took over fourth-tier Oxford', 'What to look out for in MLS this season', \"'Huge mountain to climb' - Leicester in 'alarming situation'\", \"Lionesses have 'lots to work on' but Wiegman 'not concerned'\", \"'Every woman has fear' - why risks facing female athletes remain\", 'What is the background to calls for Afghanistan cricket boycott?', 'Test Match Special. Livingstone reflects on Aus loss & Kohli century sees off Pakistan. Audio, 42 minutesTest Match Special', 'Livingstone reflects on Aus loss & Kohli century sees off Pakistan', 'Liam Livingstone gives his thoughts on England’s worries & Kohli fires India to victory.', 'Football Daily. The Commentators’ View: Yeo-ho-ho & Everton Stadium. Audio, 60 minutesFootball Daily', 'The Commentators’ View: Yeo-ho-ho & Everton Stadium', \"Stumped: The secret to Alana King's success. Audio, 32 minutesStumped: The secret to Alana King's success\", 'Football Daily. Euro Leagues: Champions League play-off drama. Audio, 44 minutesFootball Daily', 'Euro Leagues: Champions League play-off drama', \"Discover the BBC's best sports podcasts\", 'More from BBC News', 'Where and how to watch BBC News', 'Premier League', 'European Football', 'Instagram', 'TikTok', 'Facebook', 'X', 'YouTube', 'Copyright © 2025 BBC. The BBC is not responsible for the content of external sites. Read about our approach to external linking.', 'The weekend email comes as Elon Musk leads an effort to aggressively curtail the government workforce.', 'The vehicle manufacturer says \"multiple uncertainties\" in the industry led to its decision.', 'Gain the leading edge with global insights for the boardroom and beyond, in your inbox every Wednesday.', 'Facing constituents angry about the impact of sweeping government job cuts,  some Republicans are expressing concern. ', 'Laura Mallows sells most of her products via TikTok but \"dreams\" of opening a physical shop once more.', 'The vehicle manufacturer says \"multiple uncertainties\" in the industry led to its decision.', \"The cuts targeting mostly new and recently promoted workers are part of the administration's push to shrink the federal work force.\", 'Dubai-based Bybit said it could afford to reimburse customers and that it was working to find the hackers.', \"Scottish distilleries and MPs claim England's methods would damage the reputation of single malt.\", 'Gain the leading edge with global insights for the boardroom and beyond, in your inbox every Wednesday.', 'An Indian drug maker tells a BBC undercover team its addictive cocktail drug is “very harmful” but “this is business”.', \"Analysts say the Alibaba founder's re-emergence could signal a policy change in Beijing.\", \"Customers' photos and documents stored online will no longer be protected by end-to-end encryption.\", 'The Frenchman has called on the thieves to strike a deal with him to split the €500,000 (£413,664) prize.', \"The SEC's 2023 lawsuit formed part of a crackdown on crypto firms which President Trump pledged to reverse.\", 'Farmers say they are losing the fight against bird flu as Trump officials propose vaccines for birds. ', \"The London station's owner and Eurotunnel hope to expand routes to Cologne, Frankfurt and Switzerland.\", 'Chancellor faces a rising challenge to keep her tax and spending plans on track after missing forecasts.', 'A personal finance strategy popular among millennials is helping them to quit their job and retire decades early.', 'Five years after being ousted from WeWork, Adam Neumann wants to re-buy the now-bankrupt business.', \"The BBC's Katty Kay has spoken to successful change-makers to ask what made them pivot in their career.\", \"Today, the beer industry is male-dominated, but it wasn't always so.\", 'Expert advice on how to get through a waiting period.', \"Should there be a cap on billionaires' wealth and their inheritances?\", 'A career coach, a choreographer, a chef and a dragon boat captain offer advice on giving critical feedback.', 'Covid-19 reshaped the way we live and work. We rethink solo working and explore the future of work-life.', 'How a new era of quiet, net zero supersonic airliners could revolutionise the aviation industry.', 'Students are graduating in the US this week. The commencement speeches might lead them into questionable choices.', 'We meet the creators behind the current ASMR boom.', \"These are the long lost words you've been waiting for to describe your colleagues.\", 'Veterinarian professionals are committing suicide at a higher rate than the general population.\\xa0', \"The comments overshadowed Zelensky's meeting with US envoy Keith Kellogg in Kyiv.\", 'The governing BJP has accused the opposition Congress of seeking \"external interference\" in elections.', 'The gesture to the affected travellers - all of whom survived - comes with no strings attached, the airline says.', 'American demand for weight-loss drugs is supercharging Denmark’s economy and transforming a small Danish community into an unlikely boomtown.', 'The firm wanted to claim protection under copyright law, to stop rivals selling copycat versions of its shoes.', 'Long-serving masterminds Barbara Broccoli and Michael G Wilson give creative control to Amazon.', 'Apple is hoping its latest, lower cost iPhone model will boost sales of its flagship device.', 'The banking group has nearly tripled the amount it has ringfenced for potential compensation.', 'US president says he is looking for alternatives because Boeing is taking too long to build new planes', 'Copyright 2025 BBC. All rights reserved.\\xa0\\xa0The BBC is not responsible for the content of external sites.\\xa0Read about our approach to external linking.', '\\xa0', 'The qualities that make us stand out the most, and the main reasons that people find us attractive, can be a blessing and a curse. Sometimes they can become a reason for a breakup.', 'Can AI resurrect the past, or are these videos a polished, modernised version of history designed for engagement?', 'Get timely, trusted tech news from BBC correspondents around the world, every Monday and Friday.', 'Quantum computers will be able to crack existing encryption and threaten critical infrastructure.', \"The SEC's 2023 lawsuit formed part of a crackdown on crypto firms which President Trump pledged to reverse.\", 'Can AI resurrect the past, or are these videos a polished, modernised version of history designed for engagement?', 'From science-fiction to the real world, flying cars are here - but could the concept actually take off?', \"Customers' photos and documents stored online will no longer be protected by end-to-end encryption.\", ' A recent flurry of air disasters have made some people worried about flying - but are crashes on the rise?', 'Get timely, trusted tech news from BBC correspondents around the world, every Monday and Friday.', 'Our personality is not fixed and we have the power to change how we think and behave.', 'Some women are concerned about how contraceptive pills could be affecting their mental health. Are these fears backed up by evidence?', 'We use them to clean the dishes we eat off, but your kitchen sponge is a damp, crumb-filled environment that is perfect for bacteria to thrive in. Is a washing up brush better?', \"In Tulsi, a village in central India, social media has sparked an economic and social revolution. It's a microcosm of YouTube's effect on the world.\", 'Collagen supplements might make your skin more elastic – but the evidence is weak.', 'Pathfinder 1, bankrolled by a Google billionaire, is an attempt to revive the airship. A century after terrifying disasters, is it a safe-enough bet?', 'From raw eggs to protein shakes, those hoping to expand their brawn are often encouraged to ingest vast quantities of protein. But how much is really necessary?', 'BBC Click meets TikTok creator Peggy Xu who gained millions of views sharing milk videos.', 'The British naturalist embarked on an extraordinary journey, did hundreds of experiments, and wrote for 20 years.', 'The actor, who played the Facebook boss, says he is making vulnerable people \"feel threatened\".', ' The BBC tests out the tool to see what type of answers it can and will give.', 'The Chinese-based large language model is disrupting the AI industry and the stock market.\\n', \"He made the gesture while thanking supporters for contributing to Trump's victory. \", 'Researchers may have identified a new human species that lived around 300,000 years ago in Asia.', \"Can you picture a decillion dollars in your head? We find out why our brains can't handle large numbers.\", 'Researchers have found that poor sleep quality could\\xa0make your brain age faster.', 'A nonprofit in Tanzania is training African giant rats in scent detection to fight wildlife trafficking.', 'How pranayama, the ancient art of controlled yogic breathing, can help to reduce anxiety.', 'We ask US board-certified dermatologists Bruce Brod and Dee Anna Glaser to explain how lip balm works.', \"BBC Tech Correspondent Lily Jamali analyses the 'robocabs' and if their technology is up to par.\", 'The US has issued a solar storm watch. So what damage could these explosions wreak on our vulnerable planet?', 'BBC reporter Marc Cieslak explores a high-security hub monitoring digital threats ahead of the US election.\\xa0', 'Research has shown that we are becoming more exposed to microplastics. What can we do about it?', 'Cyber Correspondent Joe Tidy has an AI clone of himself built to see how sophisticated they can be.', 'The iconic team has developed technology which spread to concerts, nightclubs, and other sports teams.', 'A new generation of smart goggles provide real time visual feedback to enhance athletic performance.', 'The robotaxis were stationed in a San Francisco parking lot when a feature to avoid crashes set off the noise.', 'The lead researcher has told the BBC he was so astounded he assumed his computer had been hacked.', 'Apple is hoping its latest, lower cost iPhone model will boost sales of its flagship device.', 'The flaming ball was possibly the remains of a rocket booster, an astronomer says.', 'It says a new chip it has created could end up being as important a breakthrough as the semiconductor. ', 'The human-like robot has been designed as a platform for AI development.', 'Northern Ireland\\'s first ever astronaut candidate says the space sector is \"very much changing\".', 'US President Donald Trump’s new agency is tasked with slashing costs - but faces opposition.', \"Two years after ChatGPT, China launched DeepSeek, but India doesn't have its own foundational model yet.\", 'AI is transforming modern life, but some critics worry about its potential misuse and environmental impact.', 'Copyright 2025 BBC. All rights reserved.\\xa0\\xa0The BBC is not responsible for the content of external sites.\\xa0Read about our approach to external linking.', '\\xa0', \"Florence Pugh opened Harris Reed's show, while Richard Quinn's runway saw models in wedding dresses walking through fake snow.\", 'Her career took off after being spotted in the crowd by a cameraman at a football game.', \"Florence Pugh opened Harris Reed's show, while Richard Quinn's runway saw models in wedding dresses walking through fake snow.\", 'Her career took off after being spotted in the crowd by a cameraman at a football game.', \"Now called Quadball, the sport was made famous by JK Rowling's bespectacled wizard Harry Potter.\", \"As Drake drops a new album after his Not Like Us diss track humiliation - what's his strategy?\", 'In the past month alone, shadowy portraits have been found hidden in longstanding masterpieces by Titian and Picasso. What can they and other such discoveries tell us?', \"Now called Quadball, the sport was made famous by JK Rowling's bespectacled wizard Harry Potter.\", \"As Drake drops a new album after his Not Like Us diss track humiliation - what's his strategy?\", 'From Captain America: Brave New World to Bridget Jones: Mad About the Boy, these are the films to stream and watch at the cinema this month.', \"From the return of HBO's holiday-resort satire to a political thriller starring Robert De Niro and the latest violent period drama from Peaky Blinders creator Stephen Knight.\", 'If Demi Moore wins the best actress Oscar for The Substance, it will be a landmark moment for a genre that is often overlooked for the most prestigious awards. ', 'The all-female Forty Elephants lived by their own shoplifting and pickpocketing code – now a new series from the creator of Peaky Blinders tells the true story of the gang.', \"Starring Fernanda Torres and centring on a family torn apart by Brazil's military dictatorship, I'm Still Here is up for three major awards – and could pull off an upset on the night.\", \"An iconic image of Kate Moss marked an explosive moment of change in Britain – and helped to create the culture we now live in. It's among the photos displayed in a new exhibition.\", 'The Baftas, which is often seen as a key indicator of where the Oscars are heading, left commentators none the wiser, paving the way for a tantalising awards season finale.', 'In February 1965, the BBC reported from the funeral of the black nationalist leader in Harlem, New York, as thousands of people queued to pay their last respects.', 'The Hollywood stars on playing Bob Dylan and Pete Seeger and how director James Mangold trusted them.', 'Nine-time Oscar nominee Robert De Niro offers his words of wisdom to first-time nominee Mikey Madison.', 'The actor describes the moment Chris Evans revealed to him that he would be the next super hero.', 'Mikey Madison tells Graham Norton that she spent five months pole dance training for her role in Anora.', 'Award-winning actor Sterling K Brown reveals how he tried to play down his interest in J-Lo in front of his wife.', \"In 1966, a computer dating service set up a party for singles in New York. The BBC's Tomorrow's World was there to witness the future of matchmaking.\", \"The Znamya project had the potential to change the world. The BBC's Tomorrow's World reported on an experiment that was launched in February 1993.\", \"After being sent to the Nazi death camp in 1943, Anita Lasker survived by playing in its women's orchestra. In 1996, she spoke to the BBC about her ordeal.\", 'The singer wrote her chart-topping debut single Wuthering Heights when she was just 18, beginning a unique career in music that reaches all the way to Stranger Things.', \"The sultry star of Batman and The Emperor's New Groove was given away by her mother and never knew her father.\", 'In January 1997, British sailor Tony Bullimore was trapped for four days in an upturned yacht that was filling up with \"bitterly cold\" water in the Southern Ocean.', \"Nitin Ganatra still gets recognised by people for his role as Masood and hasn't ruled out a return.\", 'Nick Park describes fans having tattoos of Wallace and Gromit characters as \"an accolade\".', 'The actors who play Ian, Cindy, Tracey and Alfie glance back through 40 years of TV history.', 'Rapper A$AP Rocky has been found not guilty of firing a gun at a former friend.\\n', 'The Afrobeats star also wins the award for best international act, at the ceremony held in Newcastle.', 'Videos of Roland Berry, 73, from Cheltenham, crafting stained glass have been seen by millions.', \"Papal drama Conclave and immigration epic The Brutalist came away as big winners on the British film industry's biggest night.\", \"Actor and TV presenter Warwick Davis has received this year's Bafta fellowship - the British Academy's highest honour.\", 'In 1985, the BBC captured the reaction from Londoners to the first episode of EastEnders.', 'The British actor says the South Korean director\\'s work will \"go down in history\".', 'Michael Morris has been showing BBC London around some of the filming locations in the latest movie.', 'Conclave stars Ralph Fiennes, Stanley Tucci and Isabella Rossellini, and leads the nominations in the BAFTAs. ', 'The star was stopped from busking ahead of his concert in the southern Indian city of Bengaluru.', 'Chorus members stage a protest against cutbacks at the end of a show in Cardiff. ', \"The artist's digital creations are being shown as part of Bradford's Capital Of Culture celebrations.\", 'People living with cancer have shared their experiences in a new book.', 'This video has been removed for rights reasons.\\n', 'Traitors finalist Alexander Dragonetti tells the BBC he\\'s \"incredibly grateful\" after people donated more than £70,000 to Mencap.', \"Author Helen Fielding on bringing her heroine to a Gen Z audience, and whether Bridget's Darcy is based on the PM.\", 'Film locations take a starring role in a tourism campaign, while a film agency promotes Welsh talent.', 'Actors Malachi Kirby and Francis Lovehall say the Disney+ series offers a unique view of Jamaicans in Victorian London.', \"Cliff erosion led to the discovery of the young woman's skull and bones buried in Dorset.\", 'The installations at the Ikon Gallery are by Birmingham-born artist Mahtab Hussain.', 'The museum and art gallery will also benefit from a new lift and improved accessibility.', 'Works to go on show cover topics as diverse as family, climate change and gender issues.', 'Andy \"Mitch\" Mitchell says the training for his job has helped him in the TV show\\'s arena.', 'The Prospect Building in Bristol hosted the event where people could sit down and relax to calming music.', 'The former Doctor Who star is preparing to launch his first album with a Glasgow indie label.', 'Copyright 2025 BBC. All rights reserved.\\xa0\\xa0The BBC is not responsible for the content of external sites.\\xa0Read about our approach to external linking.', '\\xa0', 'With season three of The White Lotus drawing new visitors to the already bustling shores of Phuket and Koh Samui, a very different story is unfolding across the Gulf of Thailand.', 'Mayara Lima is famous for her hypnotising samba style. Here, she shares the best samba experiences in Rio, from traditional school events to samba circles.', \"From bubblegum-coloured lakes in Australia to a solar-powered safari camp in Botswana, these are BBC journalists' top destinations this year.\", 'Spanning 11,000 sq km of protected, pristine wilderness, Jasper National Park offers a one-of-a-kind destination for stargazers.', 'As White Lotus season three is released, executive producer Mark Kamine explains the behind-the-scenes wrangling and key challenges when choosing a filming location.', 'This more remote part of Iceland offers visitors a deep dive into its fascinating history and authentic culture.', 'As tensions between the US and Canada rise, a tiny puffin-filled island has become emblematic of a larger conflict about where one nation ends and another begins.', 'From fiery festivals to nature\\'s most dazzling \"sky-dance\", interest in the night skies is booming, with \"noctourism\" poised to be a major travel trend in 2025.', 'While the formal dress and classic dances of the Vienna balls have prevailed since the early 1800s, some events are taking unique approaches to the tradition.', 'From upcycled sewer pipes to spheres suspended in the sky, capsule hotels have been reinvented for a new generation of travellers.', 'Wesley Schultz, half of the rock duo The Lumineers, knows all the best places to go in Denver. Here are his local favourites, from concerts at Red Rocks to wine at Sunday Vinyl.', 'The celebrated TV chef calls her Roman heritage her \"superpower\". Here are her picks for enjoying the Eternal City with kids.', \"Emeril Lagasse is an expert on all of NOLA's iconic foods but has a special place in his heart for gumbo.\", \"From Nubian Markets to the National Center for Afro-American Artists, a local tour guide offers his picks for the best places to see Boston's Black culture.\", \"Angelababy has called Hong Kong home since she was a young girl. Here are her local insider picks, from shopping on Hollywood Road to hiking Dragon's Back.\", 'Actress and singer Tia Carrere has deep Hawaiian roots and loves sharing her culture via music, films and moments spent with family. Here are her favourite ways to find \"ohana\" in Hawaii.', 'Dubai is synonymous with luxury and pampering, and Huda Beauty founder Huda Kattan knows where to find it. Here are her Dubai picks, from heavenly massages to crystal shopping.', 'Greenlandic politician and Inuit educator Aleqa Hammond shares her top ways to experience the country, from sampling Greenlandic cuisine to viewing the Northern Lights in Ilulissat.', 'Ronald Reisley, now aged 100, is the last original member of Usonia, a small visionary community in the woods.', \"Romania is the latest country to join Europe's Schengen Agreement, making travel across its borders much easier.\", \"The Travel Show goes to the Netherlands to take a tour inside the world's first ever solar-powered campervan.\", \"The Travel Show meets 'van lifers' who sold their homes and now spend their lives on the road.\", 'The Travel Show\\xa0visits northern Iceland to see the breathtaking whales of Skjálfandi Bay.', 'Nordic etiquette: Learn how to sauna and ice plunge like a Finn and feel great afterwards.', 'The ancient city of Butrint is the first site in Albania to be added to the UNESCO World Heritage list.', 'Science says that Santa must have a crew of female reindeer. So why do we think Rudolph the reindeer is a boy?', 'On Mount Chimaera, fire has been spitting out from rocks for over 2,500 years. Our local SpeciaList explains why.', \"Find out how Japan's renowned Wajima-nuri lacquerware is crafted through more than 100 intricate steps.\", \"Japan's popular hot spring baths come with a unique requirement, full nudity for anyone entering the onsen.\", \"The BBC's Rajan Datar explores the stunning landscapes and bustling streets of the Portuguese island of Madeira.\", 'A dive into 3,500 years of underwater archeology, sunken cities and Lycian tombs\\xa0with Prof Hakan Öniz.', 'In a disarmingly frank interview, Holocaust survivor Freddie Knoller recounts his story of survival.', 'In Sweden, a deep-rooted cultural code called Jantelagen stops many from talking about their wealth.', \"Writer Carmen Roberts tours Puglia's coast, meeting local elders who are trying to preserve a pasta tradition.\", 'Long before pumpkins became a sign of Halloween, people carved faces into turnips to ward off evil spirits.', 'Voodoo, often portrayed as something to be feared, is having a renaissance in New Orleans.', 'BBC travel reporter Lucy Hedges leaves city life behind to embrace nomadic living in the Mongolian countryside.', 'A treasure trove of photographs provides a window into early 20th century Jewish shtetl life.', \"You can’t book them and you don't know who else will be there, but they're an excellent way to explore Britain's most remote corners – for free.\", 'Nearly a decade before Swedish climate activist Greta Thunberg was even born, Växjö set itself on a path to a new vision of green urban living.', \"Copenhagen's once-industrial port has been planned to make everything – from schools and play areas to businesses and recreational spaces – accessible within five minutes.\", \"This year's Global Responsible Tourism Award winners demonstrate that travel can be inclusive, climate-friendly, nature-positive and a positive force for local communities.\", 'Hagelslag sandwiches are consumed an estimated 750,000 times a day in the Netherlands.', 'Two women are working to save the coral reef from the invasive lionfish, using it as a sustainable teaching tool and cooking it into everything from tacos to fish and chips.', \"From a pufferfish feast to a secret hangover cure, BBC's Discovering the World's Table sees Nick Kwek journey to his ancestral homeland in Malaysia.\", \"Ever since absinthe was outlawed due to rumours it led to insanity, this simple drink has become the nation's go-to apertif.\", 'In the heart of what was once Britain\\'s largest colony in the New World, a \"secret\" church reveals how Black people lived and worshipped in the US\\'s earliest days.', 'The BBC looks into the psychology behind travel souvenirs: why we buy them, their impact on local communities and the planet, and how we can shop more thoughtfully.', \"If you pray for love in Izumo, there's a good chance you'll be heard. Every year, eight million gods gather in this seaside city to decide the fate of humans' relationships.\", 'The Uzbekistan government is on an ambitious tourism drive – but is sparring with heritage experts over how to protect its historical sites.', \"Food is life for this meal-obsessed island, especially when you're feeling poorly – including a spicy soup that soothes flu symptoms and a beloved chocolate drink that brings comfort.\", \"The world's only museum dedicated to the history and culture of the Gulf of Mexico may be in hot water following Trump's decision to change the name of the planet's largest gulf.\", \"Swimming holidays are the ultimate in slow travel – and since the pandemic, they've become more popular than ever.\", \"Anyone confused about Beyoncé's foray into the country genre has only to visit her home state of Texas to learn about Black Cowboy culture.\", 'This ancient snack is synonymous with Tibetan New Year and will soon be prepared by millions of families.', 'Copyright 2025 BBC. All rights reserved.\\xa0\\xa0The BBC is not responsible for the content of external sites.\\xa0Read about our approach to external linking.', '\\xa0', \"Under orders from President Trump, the EPA is trying to fast track the clean-up of toxic debris from LA's fires.\", \"Several old fossil fuel wells in the north of England were going to be used for fracking. Instead, they may now be a template for the UK's geothermal industry.\", 'From Scotland to California, golf courses are being rewilded – with lofty aims to benefit both people and nature.', 'Leonie Cornips, a sociolinguist at the Meertens Institute in Amsterdam, turns her attention from humans to cows.', \"While New York winters are\\xa0often depicted as snowy wonderlands, the city's never been as snowy as you think.\", \"'Conan the Bacterium' is the most radiation resistant bacteria in the world. Now, scientists know why.\", \"First broadcast in 1954, the celebrated naturalist's first on-screen appearance is now available in colour.\", 'The Comedy Wildlife Photography Awards held their annual ceremony, crowning the funniest animal photos of 2024.', \"Jay Christensen makes striking drone's eye videos, showing a new view of the world. He told us about his process.\", \"Wildlife biologists released a few wild turkeys in Vermont in 1969. There's now a thriving population of 45,000.\", 'Talking about who is responsible for climate destruction is a fraught topic, how do we work out what is fair?', 'Stargazers are preparing for the next meteor shower but in ancient China, they were more than a stunning display.', 'Father penguins have developed a solution to help distinguish their child from identical chicks in the colony.', 'Seismic imaging off the Pacific Coast could reveal where the next big earthquake might strike.', 'How do they differ from the ocean? A geophysicist breaks it down for us.', 'An asteroid is going to circle our planet for two months this autumn before going on its way.', 'A facility near the Icelandic capital, Reykjavik, is using innovative farming technology to grow algae.', 'The Rosa Damascena, known as the Damask rose, is considered a great treasure in the region of Kazanlak.', 'Reece Parkinson heads to the Bahamas, where he meets a community adapting to unpredictable weather patterns.', 'Lucy Hedges is in Thailand where she explores the beach made world-famous by Hollywood.', 'Scientists are preparing to drill into the rock of an Icelandic volcano to learn more about how volcanoes behave.', \"With storms occurring between 140 to 160 nights a year, it's no wonder the area is a world record holder.\", 'The degrowth movement questions the feasibility of the idea of endless economic growth on a finite planet.', 'Photographs of gulls eating anything from chips to starfish will help solve a scientific puzzle.', \"Istanbul is one of the world's biggest cities, growing larger still every year. Its rapid expansion is putting enormous stress on its water supplies.\", \"The planet's glaciers have lost 5% of their ice in little over 20 years, according to a major study.\", 'Some major carbon-emitting countries are hinting they may follow suit as the US opts to ramp up fossil fuels.', \"The world's frozen oceans keep the planet cool, but they currently have less ice than ever recorded before. \", 'Solitary lifestyles can have some big advantages in the animal world. Can humans learn anything from them?', 'As daffodils burst into bloom, experts want help in finding rare treasures hiding in plain sight.', 'Researchers are piecing together evidence of our impact on the planet through the marks we’ve left on nature, such as from chemical spills or conflicts. ', \"Scientists and industry are finding unusual new uses for brewers' spent grain – the beer industry's largest waste product.\", 'Copyright 2025 BBC. All rights reserved.\\xa0\\xa0The BBC is not responsible for the content of external sites.\\xa0Read about our approach to external linking.', '\\xa0', '', 'Weather forecasts for thousands of locations around the world', 'This video can not be played', 'Weather for the week ahead  Video, 00:03:29Weather for the week ahead ', \"There will be remnants of Sunday's wind and rain to start the week but will the jet stream change the current weather pattern over the coming days? \", 'Flooding likely as Met Office issues new amber warning', 'Wind and rain expected to have an impact across parts of the UK on Sunday', 'How safe is it to fly in bad weather?', 'Despite recent aircraft incidents, flying is still the safest method of travel. But how do pilots cope with bad weather?', 'Fog harvesting could provide water for arid cities', \"Research in Chile could help to provide drinking water for some of the world's most arid places.\", 'Relentless rain leaves widespread flooding in Botswana', 'Schools and businesses are closed and people have had to leave their homes due to heavy rain with more to come.', 'BBC Weather in association with MeteoGroup, external', 'All times are Greenwich Mean Time (Europe/London, GMT) unless otherwise stated.']\n"
          ]
        }
      ]
    },
    {
      "cell_type": "code",
      "source": [
        "df1= pd.DataFrame({'paragraphs': paragraph_texts})"
      ],
      "metadata": {
        "id": "1NnD1-flyEx0"
      },
      "execution_count": 11,
      "outputs": []
    },
    {
      "cell_type": "code",
      "source": [
        "df1.shape"
      ],
      "metadata": {
        "colab": {
          "base_uri": "https://localhost:8080/"
        },
        "id": "fsCy9Ts5yT--",
        "outputId": "80645bf2-8980-44b5-dee1-c04773b29c15"
      },
      "execution_count": 12,
      "outputs": [
        {
          "output_type": "execute_result",
          "data": {
            "text/plain": [
              "(363, 1)"
            ]
          },
          "metadata": {},
          "execution_count": 12
        }
      ]
    },
    {
      "cell_type": "code",
      "source": [
        "df1"
      ],
      "metadata": {
        "colab": {
          "base_uri": "https://localhost:8080/",
          "height": 423
        },
        "id": "kl99c93IzF10",
        "outputId": "9bb3a507-9c12-4610-e2fa-0e992114f622"
      },
      "execution_count": 13,
      "outputs": [
        {
          "output_type": "execute_result",
          "data": {
            "text/plain": [
              "                                            paragraphs\n",
              "0    Reaction and the best clips as India seal vict...\n",
              "1    The moves come after a BBC investigation found...\n",
              "2    The governing BJP has accused the opposition C...\n",
              "3    Patel, the son of Indian immigrants, is a form...\n",
              "4    Remarks made by popular YouTuber Ranveer Allah...\n",
              "..                                                 ...\n",
              "358  Research in Chile could help to provide drinki...\n",
              "359  Relentless rain leaves widespread flooding in ...\n",
              "360  Schools and businesses are closed and people h...\n",
              "361  BBC Weather in association with MeteoGroup, ex...\n",
              "362  All times are Greenwich Mean Time (Europe/Lond...\n",
              "\n",
              "[363 rows x 1 columns]"
            ],
            "text/html": [
              "\n",
              "  <div id=\"df-cff66121-47e7-451d-ad58-90ff1df22fbd\" class=\"colab-df-container\">\n",
              "    <div>\n",
              "<style scoped>\n",
              "    .dataframe tbody tr th:only-of-type {\n",
              "        vertical-align: middle;\n",
              "    }\n",
              "\n",
              "    .dataframe tbody tr th {\n",
              "        vertical-align: top;\n",
              "    }\n",
              "\n",
              "    .dataframe thead th {\n",
              "        text-align: right;\n",
              "    }\n",
              "</style>\n",
              "<table border=\"1\" class=\"dataframe\">\n",
              "  <thead>\n",
              "    <tr style=\"text-align: right;\">\n",
              "      <th></th>\n",
              "      <th>paragraphs</th>\n",
              "    </tr>\n",
              "  </thead>\n",
              "  <tbody>\n",
              "    <tr>\n",
              "      <th>0</th>\n",
              "      <td>Reaction and the best clips as India seal vict...</td>\n",
              "    </tr>\n",
              "    <tr>\n",
              "      <th>1</th>\n",
              "      <td>The moves come after a BBC investigation found...</td>\n",
              "    </tr>\n",
              "    <tr>\n",
              "      <th>2</th>\n",
              "      <td>The governing BJP has accused the opposition C...</td>\n",
              "    </tr>\n",
              "    <tr>\n",
              "      <th>3</th>\n",
              "      <td>Patel, the son of Indian immigrants, is a form...</td>\n",
              "    </tr>\n",
              "    <tr>\n",
              "      <th>4</th>\n",
              "      <td>Remarks made by popular YouTuber Ranveer Allah...</td>\n",
              "    </tr>\n",
              "    <tr>\n",
              "      <th>...</th>\n",
              "      <td>...</td>\n",
              "    </tr>\n",
              "    <tr>\n",
              "      <th>358</th>\n",
              "      <td>Research in Chile could help to provide drinki...</td>\n",
              "    </tr>\n",
              "    <tr>\n",
              "      <th>359</th>\n",
              "      <td>Relentless rain leaves widespread flooding in ...</td>\n",
              "    </tr>\n",
              "    <tr>\n",
              "      <th>360</th>\n",
              "      <td>Schools and businesses are closed and people h...</td>\n",
              "    </tr>\n",
              "    <tr>\n",
              "      <th>361</th>\n",
              "      <td>BBC Weather in association with MeteoGroup, ex...</td>\n",
              "    </tr>\n",
              "    <tr>\n",
              "      <th>362</th>\n",
              "      <td>All times are Greenwich Mean Time (Europe/Lond...</td>\n",
              "    </tr>\n",
              "  </tbody>\n",
              "</table>\n",
              "<p>363 rows × 1 columns</p>\n",
              "</div>\n",
              "    <div class=\"colab-df-buttons\">\n",
              "\n",
              "  <div class=\"colab-df-container\">\n",
              "    <button class=\"colab-df-convert\" onclick=\"convertToInteractive('df-cff66121-47e7-451d-ad58-90ff1df22fbd')\"\n",
              "            title=\"Convert this dataframe to an interactive table.\"\n",
              "            style=\"display:none;\">\n",
              "\n",
              "  <svg xmlns=\"http://www.w3.org/2000/svg\" height=\"24px\" viewBox=\"0 -960 960 960\">\n",
              "    <path d=\"M120-120v-720h720v720H120Zm60-500h600v-160H180v160Zm220 220h160v-160H400v160Zm0 220h160v-160H400v160ZM180-400h160v-160H180v160Zm440 0h160v-160H620v160ZM180-180h160v-160H180v160Zm440 0h160v-160H620v160Z\"/>\n",
              "  </svg>\n",
              "    </button>\n",
              "\n",
              "  <style>\n",
              "    .colab-df-container {\n",
              "      display:flex;\n",
              "      gap: 12px;\n",
              "    }\n",
              "\n",
              "    .colab-df-convert {\n",
              "      background-color: #E8F0FE;\n",
              "      border: none;\n",
              "      border-radius: 50%;\n",
              "      cursor: pointer;\n",
              "      display: none;\n",
              "      fill: #1967D2;\n",
              "      height: 32px;\n",
              "      padding: 0 0 0 0;\n",
              "      width: 32px;\n",
              "    }\n",
              "\n",
              "    .colab-df-convert:hover {\n",
              "      background-color: #E2EBFA;\n",
              "      box-shadow: 0px 1px 2px rgba(60, 64, 67, 0.3), 0px 1px 3px 1px rgba(60, 64, 67, 0.15);\n",
              "      fill: #174EA6;\n",
              "    }\n",
              "\n",
              "    .colab-df-buttons div {\n",
              "      margin-bottom: 4px;\n",
              "    }\n",
              "\n",
              "    [theme=dark] .colab-df-convert {\n",
              "      background-color: #3B4455;\n",
              "      fill: #D2E3FC;\n",
              "    }\n",
              "\n",
              "    [theme=dark] .colab-df-convert:hover {\n",
              "      background-color: #434B5C;\n",
              "      box-shadow: 0px 1px 3px 1px rgba(0, 0, 0, 0.15);\n",
              "      filter: drop-shadow(0px 1px 2px rgba(0, 0, 0, 0.3));\n",
              "      fill: #FFFFFF;\n",
              "    }\n",
              "  </style>\n",
              "\n",
              "    <script>\n",
              "      const buttonEl =\n",
              "        document.querySelector('#df-cff66121-47e7-451d-ad58-90ff1df22fbd button.colab-df-convert');\n",
              "      buttonEl.style.display =\n",
              "        google.colab.kernel.accessAllowed ? 'block' : 'none';\n",
              "\n",
              "      async function convertToInteractive(key) {\n",
              "        const element = document.querySelector('#df-cff66121-47e7-451d-ad58-90ff1df22fbd');\n",
              "        const dataTable =\n",
              "          await google.colab.kernel.invokeFunction('convertToInteractive',\n",
              "                                                    [key], {});\n",
              "        if (!dataTable) return;\n",
              "\n",
              "        const docLinkHtml = 'Like what you see? Visit the ' +\n",
              "          '<a target=\"_blank\" href=https://colab.research.google.com/notebooks/data_table.ipynb>data table notebook</a>'\n",
              "          + ' to learn more about interactive tables.';\n",
              "        element.innerHTML = '';\n",
              "        dataTable['output_type'] = 'display_data';\n",
              "        await google.colab.output.renderOutput(dataTable, element);\n",
              "        const docLink = document.createElement('div');\n",
              "        docLink.innerHTML = docLinkHtml;\n",
              "        element.appendChild(docLink);\n",
              "      }\n",
              "    </script>\n",
              "  </div>\n",
              "\n",
              "\n",
              "<div id=\"df-1014a949-035f-40ba-b3ce-9ca850a594c0\">\n",
              "  <button class=\"colab-df-quickchart\" onclick=\"quickchart('df-1014a949-035f-40ba-b3ce-9ca850a594c0')\"\n",
              "            title=\"Suggest charts\"\n",
              "            style=\"display:none;\">\n",
              "\n",
              "<svg xmlns=\"http://www.w3.org/2000/svg\" height=\"24px\"viewBox=\"0 0 24 24\"\n",
              "     width=\"24px\">\n",
              "    <g>\n",
              "        <path d=\"M19 3H5c-1.1 0-2 .9-2 2v14c0 1.1.9 2 2 2h14c1.1 0 2-.9 2-2V5c0-1.1-.9-2-2-2zM9 17H7v-7h2v7zm4 0h-2V7h2v10zm4 0h-2v-4h2v4z\"/>\n",
              "    </g>\n",
              "</svg>\n",
              "  </button>\n",
              "\n",
              "<style>\n",
              "  .colab-df-quickchart {\n",
              "      --bg-color: #E8F0FE;\n",
              "      --fill-color: #1967D2;\n",
              "      --hover-bg-color: #E2EBFA;\n",
              "      --hover-fill-color: #174EA6;\n",
              "      --disabled-fill-color: #AAA;\n",
              "      --disabled-bg-color: #DDD;\n",
              "  }\n",
              "\n",
              "  [theme=dark] .colab-df-quickchart {\n",
              "      --bg-color: #3B4455;\n",
              "      --fill-color: #D2E3FC;\n",
              "      --hover-bg-color: #434B5C;\n",
              "      --hover-fill-color: #FFFFFF;\n",
              "      --disabled-bg-color: #3B4455;\n",
              "      --disabled-fill-color: #666;\n",
              "  }\n",
              "\n",
              "  .colab-df-quickchart {\n",
              "    background-color: var(--bg-color);\n",
              "    border: none;\n",
              "    border-radius: 50%;\n",
              "    cursor: pointer;\n",
              "    display: none;\n",
              "    fill: var(--fill-color);\n",
              "    height: 32px;\n",
              "    padding: 0;\n",
              "    width: 32px;\n",
              "  }\n",
              "\n",
              "  .colab-df-quickchart:hover {\n",
              "    background-color: var(--hover-bg-color);\n",
              "    box-shadow: 0 1px 2px rgba(60, 64, 67, 0.3), 0 1px 3px 1px rgba(60, 64, 67, 0.15);\n",
              "    fill: var(--button-hover-fill-color);\n",
              "  }\n",
              "\n",
              "  .colab-df-quickchart-complete:disabled,\n",
              "  .colab-df-quickchart-complete:disabled:hover {\n",
              "    background-color: var(--disabled-bg-color);\n",
              "    fill: var(--disabled-fill-color);\n",
              "    box-shadow: none;\n",
              "  }\n",
              "\n",
              "  .colab-df-spinner {\n",
              "    border: 2px solid var(--fill-color);\n",
              "    border-color: transparent;\n",
              "    border-bottom-color: var(--fill-color);\n",
              "    animation:\n",
              "      spin 1s steps(1) infinite;\n",
              "  }\n",
              "\n",
              "  @keyframes spin {\n",
              "    0% {\n",
              "      border-color: transparent;\n",
              "      border-bottom-color: var(--fill-color);\n",
              "      border-left-color: var(--fill-color);\n",
              "    }\n",
              "    20% {\n",
              "      border-color: transparent;\n",
              "      border-left-color: var(--fill-color);\n",
              "      border-top-color: var(--fill-color);\n",
              "    }\n",
              "    30% {\n",
              "      border-color: transparent;\n",
              "      border-left-color: var(--fill-color);\n",
              "      border-top-color: var(--fill-color);\n",
              "      border-right-color: var(--fill-color);\n",
              "    }\n",
              "    40% {\n",
              "      border-color: transparent;\n",
              "      border-right-color: var(--fill-color);\n",
              "      border-top-color: var(--fill-color);\n",
              "    }\n",
              "    60% {\n",
              "      border-color: transparent;\n",
              "      border-right-color: var(--fill-color);\n",
              "    }\n",
              "    80% {\n",
              "      border-color: transparent;\n",
              "      border-right-color: var(--fill-color);\n",
              "      border-bottom-color: var(--fill-color);\n",
              "    }\n",
              "    90% {\n",
              "      border-color: transparent;\n",
              "      border-bottom-color: var(--fill-color);\n",
              "    }\n",
              "  }\n",
              "</style>\n",
              "\n",
              "  <script>\n",
              "    async function quickchart(key) {\n",
              "      const quickchartButtonEl =\n",
              "        document.querySelector('#' + key + ' button');\n",
              "      quickchartButtonEl.disabled = true;  // To prevent multiple clicks.\n",
              "      quickchartButtonEl.classList.add('colab-df-spinner');\n",
              "      try {\n",
              "        const charts = await google.colab.kernel.invokeFunction(\n",
              "            'suggestCharts', [key], {});\n",
              "      } catch (error) {\n",
              "        console.error('Error during call to suggestCharts:', error);\n",
              "      }\n",
              "      quickchartButtonEl.classList.remove('colab-df-spinner');\n",
              "      quickchartButtonEl.classList.add('colab-df-quickchart-complete');\n",
              "    }\n",
              "    (() => {\n",
              "      let quickchartButtonEl =\n",
              "        document.querySelector('#df-1014a949-035f-40ba-b3ce-9ca850a594c0 button');\n",
              "      quickchartButtonEl.style.display =\n",
              "        google.colab.kernel.accessAllowed ? 'block' : 'none';\n",
              "    })();\n",
              "  </script>\n",
              "</div>\n",
              "\n",
              "  <div id=\"id_bb0fe6b2-1d11-4c5b-92b9-f578aea6d2be\">\n",
              "    <style>\n",
              "      .colab-df-generate {\n",
              "        background-color: #E8F0FE;\n",
              "        border: none;\n",
              "        border-radius: 50%;\n",
              "        cursor: pointer;\n",
              "        display: none;\n",
              "        fill: #1967D2;\n",
              "        height: 32px;\n",
              "        padding: 0 0 0 0;\n",
              "        width: 32px;\n",
              "      }\n",
              "\n",
              "      .colab-df-generate:hover {\n",
              "        background-color: #E2EBFA;\n",
              "        box-shadow: 0px 1px 2px rgba(60, 64, 67, 0.3), 0px 1px 3px 1px rgba(60, 64, 67, 0.15);\n",
              "        fill: #174EA6;\n",
              "      }\n",
              "\n",
              "      [theme=dark] .colab-df-generate {\n",
              "        background-color: #3B4455;\n",
              "        fill: #D2E3FC;\n",
              "      }\n",
              "\n",
              "      [theme=dark] .colab-df-generate:hover {\n",
              "        background-color: #434B5C;\n",
              "        box-shadow: 0px 1px 3px 1px rgba(0, 0, 0, 0.15);\n",
              "        filter: drop-shadow(0px 1px 2px rgba(0, 0, 0, 0.3));\n",
              "        fill: #FFFFFF;\n",
              "      }\n",
              "    </style>\n",
              "    <button class=\"colab-df-generate\" onclick=\"generateWithVariable('df1')\"\n",
              "            title=\"Generate code using this dataframe.\"\n",
              "            style=\"display:none;\">\n",
              "\n",
              "  <svg xmlns=\"http://www.w3.org/2000/svg\" height=\"24px\"viewBox=\"0 0 24 24\"\n",
              "       width=\"24px\">\n",
              "    <path d=\"M7,19H8.4L18.45,9,17,7.55,7,17.6ZM5,21V16.75L18.45,3.32a2,2,0,0,1,2.83,0l1.4,1.43a1.91,1.91,0,0,1,.58,1.4,1.91,1.91,0,0,1-.58,1.4L9.25,21ZM18.45,9,17,7.55Zm-12,3A5.31,5.31,0,0,0,4.9,8.1,5.31,5.31,0,0,0,1,6.5,5.31,5.31,0,0,0,4.9,4.9,5.31,5.31,0,0,0,6.5,1,5.31,5.31,0,0,0,8.1,4.9,5.31,5.31,0,0,0,12,6.5,5.46,5.46,0,0,0,6.5,12Z\"/>\n",
              "  </svg>\n",
              "    </button>\n",
              "    <script>\n",
              "      (() => {\n",
              "      const buttonEl =\n",
              "        document.querySelector('#id_bb0fe6b2-1d11-4c5b-92b9-f578aea6d2be button.colab-df-generate');\n",
              "      buttonEl.style.display =\n",
              "        google.colab.kernel.accessAllowed ? 'block' : 'none';\n",
              "\n",
              "      buttonEl.onclick = () => {\n",
              "        google.colab.notebook.generateWithVariable('df1');\n",
              "      }\n",
              "      })();\n",
              "    </script>\n",
              "  </div>\n",
              "\n",
              "    </div>\n",
              "  </div>\n"
            ],
            "application/vnd.google.colaboratory.intrinsic+json": {
              "type": "dataframe",
              "variable_name": "df1",
              "summary": "{\n  \"name\": \"df1\",\n  \"rows\": 363,\n  \"fields\": [\n    {\n      \"column\": \"paragraphs\",\n      \"properties\": {\n        \"dtype\": \"string\",\n        \"num_unique_values\": 336,\n        \"samples\": [\n          \"England find a way to win to stay in title mix\",\n          \"Facing constituents angry about the impact of sweeping government job cuts,  some Republicans are expressing concern. \",\n          \"Wildlife biologists released a few wild turkeys in Vermont in 1969. There's now a thriving population of 45,000.\"\n        ],\n        \"semantic_type\": \"\",\n        \"description\": \"\"\n      }\n    }\n  ]\n}"
            }
          },
          "metadata": {},
          "execution_count": 13
        }
      ]
    },
    {
      "cell_type": "code",
      "source": [
        "url = \"https://timesofindia.indiatimes.com/india/maharashtra\"\n",
        "headers = {\"User-Agent\": \"Mozilla/5.0\"}\n",
        "response = requests.get(url, headers=headers)\n",
        "soup = BeautifulSoup(response.text, \"html.parser\")"
      ],
      "metadata": {
        "id": "j8P1K_q4z-cE"
      },
      "execution_count": 14,
      "outputs": []
    },
    {
      "cell_type": "code",
      "source": [
        "articles = soup.select(\"ul.content.top-newslist.clearfix a\")  # Selects all <a> inside the news list\n",
        "all_links =[]\n",
        "for article in articles:\n",
        "    title = article.text.strip()  # Extract text (headline)\n",
        "    link = \"https://timesofindia.indiatimes.com\" + article.get(\"href\")  # Extract and complete URL\n",
        "    all_links.append(link)\n",
        "    print(f\"Title: {title}\")\n",
        "    print(f\"URL: {link}\\n\")\n",
        "\n",
        "\n",
        "\n"
      ],
      "metadata": {
        "id": "iBkZulai_JKA"
      },
      "execution_count": 21,
      "outputs": []
    },
    {
      "cell_type": "code",
      "source": [
        "print(all_links)"
      ],
      "metadata": {
        "colab": {
          "base_uri": "https://localhost:8080/"
        },
        "id": "QularTbv_YFD",
        "outputId": "90e6f76d-3c0e-42d4-f418-539042483b67"
      },
      "execution_count": 22,
      "outputs": [
        {
          "output_type": "stream",
          "name": "stdout",
          "text": [
            "[]\n"
          ]
        }
      ]
    }
  ]
}